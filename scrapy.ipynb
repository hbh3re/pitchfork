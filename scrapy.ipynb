{
 "cells": [
  {
   "cell_type": "code",
   "execution_count": 35,
   "metadata": {
    "collapsed": true
   },
   "outputs": [],
   "source": [
    "import pandas as pd"
   ]
  },
  {
   "cell_type": "code",
   "execution_count": 36,
   "metadata": {
    "collapsed": true
   },
   "outputs": [],
   "source": [
    "# is there anyway to scrape all reviews from pages that link to multiple reviews\n",
    "# example: https://pitchfork.com/reviews/albums/bruce-springsteen-the-album-collection-vol-2-1987-1996/\n",
    "reviews_csv = pd.read_csv('reviews_stripped.csv')"
   ]
  },
  {
   "cell_type": "code",
   "execution_count": 37,
   "metadata": {
    "collapsed": false
   },
   "outputs": [
    {
     "data": {
      "text/html": [
       "<div>\n",
       "<style scoped>\n",
       "    .dataframe tbody tr th:only-of-type {\n",
       "        vertical-align: middle;\n",
       "    }\n",
       "\n",
       "    .dataframe tbody tr th {\n",
       "        vertical-align: top;\n",
       "    }\n",
       "\n",
       "    .dataframe thead th {\n",
       "        text-align: right;\n",
       "    }\n",
       "</style>\n",
       "<table border=\"1\" class=\"dataframe\">\n",
       "  <thead>\n",
       "    <tr style=\"text-align: right;\">\n",
       "      <th></th>\n",
       "      <th>album</th>\n",
       "      <th>artist</th>\n",
       "      <th>bnm</th>\n",
       "      <th>bnr</th>\n",
       "      <th>date</th>\n",
       "      <th>reviewer</th>\n",
       "      <th>score</th>\n",
       "      <th>url</th>\n",
       "    </tr>\n",
       "  </thead>\n",
       "  <tbody>\n",
       "    <tr>\n",
       "      <th>0</th>\n",
       "      <td>4275</td>\n",
       "      <td>Jacquees</td>\n",
       "      <td>0</td>\n",
       "      <td>0</td>\n",
       "      <td>21 hrs ago</td>\n",
       "      <td>Jay Balfour</td>\n",
       "      <td>6.9</td>\n",
       "      <td>https://pitchfork.com/reviews/albums/jacquees-...</td>\n",
       "    </tr>\n",
       "    <tr>\n",
       "      <th>1</th>\n",
       "      <td>Call the Comet</td>\n",
       "      <td>Johnny Marr</td>\n",
       "      <td>0</td>\n",
       "      <td>0</td>\n",
       "      <td>June 21 2018</td>\n",
       "      <td>Stephen Thomas Erlewine</td>\n",
       "      <td>6.0</td>\n",
       "      <td>https://pitchfork.com/reviews/albums/johnny-ma...</td>\n",
       "    </tr>\n",
       "    <tr>\n",
       "      <th>2</th>\n",
       "      <td>Sorpresa Familia</td>\n",
       "      <td>Mourn</td>\n",
       "      <td>0</td>\n",
       "      <td>0</td>\n",
       "      <td>June 21 2018</td>\n",
       "      <td>Larry Fitzmaurice</td>\n",
       "      <td>7.7</td>\n",
       "      <td>https://pitchfork.com/reviews/albums/mourn-sor...</td>\n",
       "    </tr>\n",
       "    <tr>\n",
       "      <th>3</th>\n",
       "      <td>Heaven and Earth</td>\n",
       "      <td>Kamasi Washington</td>\n",
       "      <td>1</td>\n",
       "      <td>0</td>\n",
       "      <td>21 hrs ago</td>\n",
       "      <td>Nate Chinen</td>\n",
       "      <td>8.8</td>\n",
       "      <td>https://pitchfork.com/reviews/albums/kamasi-wa...</td>\n",
       "    </tr>\n",
       "    <tr>\n",
       "      <th>4</th>\n",
       "      <td>Lower East Suite Part Three</td>\n",
       "      <td>Onyx Collective</td>\n",
       "      <td>0</td>\n",
       "      <td>0</td>\n",
       "      <td>21 hrs ago</td>\n",
       "      <td>Jay Balfour</td>\n",
       "      <td>7.6</td>\n",
       "      <td>https://pitchfork.com/reviews/albums/onyx-coll...</td>\n",
       "    </tr>\n",
       "  </tbody>\n",
       "</table>\n",
       "</div>"
      ],
      "text/plain": [
       "                         album             artist  bnm  bnr          date  \\\n",
       "0                         4275           Jacquees    0    0    21 hrs ago   \n",
       "1               Call the Comet        Johnny Marr    0    0  June 21 2018   \n",
       "2             Sorpresa Familia              Mourn    0    0  June 21 2018   \n",
       "3             Heaven and Earth  Kamasi Washington    1    0    21 hrs ago   \n",
       "4  Lower East Suite Part Three    Onyx Collective    0    0    21 hrs ago   \n",
       "\n",
       "                  reviewer score  \\\n",
       "0              Jay Balfour   6.9   \n",
       "1  Stephen Thomas Erlewine   6.0   \n",
       "2        Larry Fitzmaurice   7.7   \n",
       "3              Nate Chinen   8.8   \n",
       "4              Jay Balfour   7.6   \n",
       "\n",
       "                                                 url  \n",
       "0  https://pitchfork.com/reviews/albums/jacquees-...  \n",
       "1  https://pitchfork.com/reviews/albums/johnny-ma...  \n",
       "2  https://pitchfork.com/reviews/albums/mourn-sor...  \n",
       "3  https://pitchfork.com/reviews/albums/kamasi-wa...  \n",
       "4  https://pitchfork.com/reviews/albums/onyx-coll...  "
      ]
     },
     "execution_count": 37,
     "metadata": {},
     "output_type": "execute_result"
    }
   ],
   "source": [
    "reviews_csv.head()"
   ]
  },
  {
   "cell_type": "code",
   "execution_count": 38,
   "metadata": {
    "collapsed": false
   },
   "outputs": [
    {
     "data": {
      "text/plain": [
       "(20245, 8)"
      ]
     },
     "execution_count": 38,
     "metadata": {},
     "output_type": "execute_result"
    }
   ],
   "source": [
    "reviews_csv.shape"
   ]
  },
  {
   "cell_type": "code",
   "execution_count": 39,
   "metadata": {
    "collapsed": false
   },
   "outputs": [
    {
     "data": {
      "text/plain": [
       "album        13\n",
       "artist      732\n",
       "bnm           0\n",
       "bnr           0\n",
       "date          0\n",
       "reviewer      0\n",
       "score         0\n",
       "url           0\n",
       "dtype: int64"
      ]
     },
     "execution_count": 39,
     "metadata": {},
     "output_type": "execute_result"
    }
   ],
   "source": [
    "reviews_csv.isnull().sum()"
   ]
  },
  {
   "cell_type": "code",
   "execution_count": 40,
   "metadata": {
    "collapsed": true
   },
   "outputs": [],
   "source": [
    "# 'Various Artists' albums were scraped as nans, so replaced here\n",
    "reviews_csv['artist'] = reviews_csv['artist'].fillna('Various Artists')"
   ]
  },
  {
   "cell_type": "code",
   "execution_count": 41,
   "metadata": {
    "collapsed": false
   },
   "outputs": [],
   "source": [
    "# 13 album titles either weren't there or didn't scrape properly\n",
    "# not entirely sure what to do about that...but not crucial to our goal\n",
    "reviews_csv['album'] = reviews_csv['album'].fillna('N/A')"
   ]
  },
  {
   "cell_type": "code",
   "execution_count": null,
   "metadata": {
    "collapsed": false
   },
   "outputs": [],
   "source": [
    "# clean up poor scraping of some artists names that led to repeats\n",
    "# I think this actually arises in the case of those multi album reviews\n",
    "# set_func = lambda x: ', '.join(set(x)) # function used to isolate artist name\n",
    "# next line changes elements to list of strings and maps our function\n",
    "# reviews_csv['artist'] = reviews_csv['artist'].str.split(',').map(set_func)\n",
    "# oof this messes up artists that have a commma in their name"
   ]
  },
  {
   "cell_type": "code",
   "execution_count": 42,
   "metadata": {
    "collapsed": false
   },
   "outputs": [
    {
     "data": {
      "text/plain": [
       "0       21 hrs ago\n",
       "1     June 21 2018\n",
       "2     June 21 2018\n",
       "3       21 hrs ago\n",
       "4       21 hrs ago\n",
       "5     June 21 2018\n",
       "6     June 21 2018\n",
       "7       21 hrs ago\n",
       "8     June 20 2018\n",
       "9     June 20 2018\n",
       "10    June 20 2018\n",
       "11      21 hrs ago\n",
       "12    June 19 2018\n",
       "13    June 17 2018\n",
       "14    June 18 2018\n",
       "15    June 18 2018\n",
       "16    June 19 2018\n",
       "17    June 19 2018\n",
       "18    June 18 2018\n",
       "19    June 18 2018\n",
       "Name: date, dtype: object"
      ]
     },
     "execution_count": 42,
     "metadata": {},
     "output_type": "execute_result"
    }
   ],
   "source": [
    "reviews_csv['date'][:20]"
   ]
  },
  {
   "cell_type": "code",
   "execution_count": 43,
   "metadata": {
    "collapsed": false
   },
   "outputs": [],
   "source": [
    "# fix dates that were scraped as '21 hours ago'\n",
    "for i in [0, 3, 4, 7, 11]:\n",
    "    reviews_csv.loc[i, 'date'] = 'June 22 2018'"
   ]
  },
  {
   "cell_type": "code",
   "execution_count": 44,
   "metadata": {
    "collapsed": false
   },
   "outputs": [],
   "source": [
    "# function used to changed date feature to datetime object\n",
    "reviews_csv['date'] = pd.to_datetime(reviews_csv['date'].str.replace(' ', ''), format='%B%d%Y')"
   ]
  },
  {
   "cell_type": "code",
   "execution_count": 45,
   "metadata": {
    "collapsed": false
   },
   "outputs": [],
   "source": [
    "# split duplicate reviews into lists\n",
    "# try splitting white space from artists and albums during scraping!!!\n",
    "reviews_csv['score'] = reviews_csv['score'].str.split(',')\n",
    "reviews_csv['album'] = reviews_csv['album'].str.split(r'(?<=\\S);(?=\\S)')\n",
    "reviews_csv['artist'] = reviews_csv['artist'].str.split(r'(?<=\\S);(?=\\S)')"
   ]
  },
  {
   "cell_type": "code",
   "execution_count": 46,
   "metadata": {
    "collapsed": false
   },
   "outputs": [],
   "source": [
    "remove_idx = []\n",
    "delete_count = 0\n",
    "for idx, row in reviews_csv.iterrows():\n",
    "    if len(row['score']) > 1:\n",
    "        if row['artist'][0] == 'Various Artists':\n",
    "            for i in range(len(row['album'])):\n",
    "                reviews_csv = reviews_csv.append({'album': [row['album'][i]], 'artist': [row['artist'][0]], \n",
    "                                                  'bnm': row['bnm'],'bnr': row['bnr'], 'date': row['date'], \n",
    "                                                  'reviewer': row['reviewer'],'score': [row['score'][i]], \n",
    "                                                  'url': row['url']}, ignore_index=True)\n",
    "        elif len(row['artist']) == len(row['album']) == len(row['score']):\n",
    "            for i in range(len(row['album'])):\n",
    "                reviews_csv = reviews_csv.append({'album': [row['album'][i]], 'artist': [row['artist'][i]], \n",
    "                                                  'bnm': row['bnm'],'bnr': row['bnr'], 'date': row['date'], \n",
    "                                                  'reviewer': row['reviewer'],'score': [row['score'][i]], \n",
    "                                                  'url': row['url']}, ignore_index=True)\n",
    "        else:\n",
    "            delete_count += 1\n",
    "            \n",
    "        remove_idx.append(idx)"
   ]
  },
  {
   "cell_type": "code",
   "execution_count": 47,
   "metadata": {
    "collapsed": false
   },
   "outputs": [
    {
     "data": {
      "text/plain": [
       "[96, 146, 170, 177, 304, 336, 555, 594, 618, 646]"
      ]
     },
     "execution_count": 47,
     "metadata": {},
     "output_type": "execute_result"
    }
   ],
   "source": [
    "remove_idx[:10]"
   ]
  },
  {
   "cell_type": "code",
   "execution_count": 48,
   "metadata": {
    "collapsed": true
   },
   "outputs": [],
   "source": [
    "reviews_csv.drop(remove_idx, inplace=True)"
   ]
  },
  {
   "cell_type": "code",
   "execution_count": 57,
   "metadata": {
    "collapsed": false
   },
   "outputs": [
    {
     "data": {
      "text/plain": [
       "21624        Love You\n",
       "21625       Guarapero\n",
       "21626    Lost Blues 2\n",
       "21627    360 Business\n",
       "21628      360 Bypass\n",
       "Name: album, dtype: object"
      ]
     },
     "execution_count": 57,
     "metadata": {},
     "output_type": "execute_result"
    }
   ],
   "source": [
    "reviews_csv.tail()['album'].apply(lambda x: x[0])"
   ]
  },
  {
   "cell_type": "code",
   "execution_count": 55,
   "metadata": {
    "collapsed": false
   },
   "outputs": [],
   "source": [
    "for idx, row in reviews_csv.iterrows():\n",
    "    try:\n",
    "        if len(row['album']) > 1:\n",
    "            reviews_csv.drop(idx, inplace=True)\n",
    "    except:\n",
    "        print(idx, row['album'])"
   ]
  },
  {
   "cell_type": "code",
   "execution_count": 58,
   "metadata": {
    "collapsed": false
   },
   "outputs": [],
   "source": [
    "for cat in ['album', 'artist', 'score']:\n",
    "    reviews_csv[cat] = reviews_csv[cat].apply(lambda x: x[0])"
   ]
  },
  {
   "cell_type": "code",
   "execution_count": 59,
   "metadata": {
    "collapsed": true
   },
   "outputs": [],
   "source": [
    "reviews_csv.reset_index(drop=True, inplace=True)"
   ]
  },
  {
   "cell_type": "code",
   "execution_count": 60,
   "metadata": {
    "collapsed": false
   },
   "outputs": [
    {
     "data": {
      "text/html": [
       "<div>\n",
       "<style scoped>\n",
       "    .dataframe tbody tr th:only-of-type {\n",
       "        vertical-align: middle;\n",
       "    }\n",
       "\n",
       "    .dataframe tbody tr th {\n",
       "        vertical-align: top;\n",
       "    }\n",
       "\n",
       "    .dataframe thead th {\n",
       "        text-align: right;\n",
       "    }\n",
       "</style>\n",
       "<table border=\"1\" class=\"dataframe\">\n",
       "  <thead>\n",
       "    <tr style=\"text-align: right;\">\n",
       "      <th></th>\n",
       "      <th>album</th>\n",
       "      <th>artist</th>\n",
       "      <th>bnm</th>\n",
       "      <th>bnr</th>\n",
       "      <th>date</th>\n",
       "      <th>reviewer</th>\n",
       "      <th>score</th>\n",
       "      <th>url</th>\n",
       "    </tr>\n",
       "  </thead>\n",
       "  <tbody>\n",
       "    <tr>\n",
       "      <th>21087</th>\n",
       "      <td>Love You</td>\n",
       "      <td>The Beach Boys</td>\n",
       "      <td>0</td>\n",
       "      <td>0</td>\n",
       "      <td>2000-08-15</td>\n",
       "      <td>D. Erik Kempke</td>\n",
       "      <td>7.8</td>\n",
       "      <td>https://pitchfork.com/reviews/albums/11669-15-...</td>\n",
       "    </tr>\n",
       "    <tr>\n",
       "      <th>21088</th>\n",
       "      <td>Guarapero</td>\n",
       "      <td>Will Oldham</td>\n",
       "      <td>0</td>\n",
       "      <td>0</td>\n",
       "      <td>2000-03-07</td>\n",
       "      <td>Kristin Sage Rockermann</td>\n",
       "      <td>6.8</td>\n",
       "      <td>https://pitchfork.com/reviews/albums/11792-gua...</td>\n",
       "    </tr>\n",
       "    <tr>\n",
       "      <th>21089</th>\n",
       "      <td>Lost Blues 2</td>\n",
       "      <td>Will Oldham</td>\n",
       "      <td>0</td>\n",
       "      <td>0</td>\n",
       "      <td>2000-03-07</td>\n",
       "      <td>Kristin Sage Rockermann</td>\n",
       "      <td>6.8</td>\n",
       "      <td>https://pitchfork.com/reviews/albums/11792-gua...</td>\n",
       "    </tr>\n",
       "    <tr>\n",
       "      <th>21090</th>\n",
       "      <td>360 Business</td>\n",
       "      <td>Pan American</td>\n",
       "      <td>0</td>\n",
       "      <td>0</td>\n",
       "      <td>2000-01-31</td>\n",
       "      <td>Dan Gardopee</td>\n",
       "      <td>7.8</td>\n",
       "      <td>https://pitchfork.com/reviews/albums/11798-360...</td>\n",
       "    </tr>\n",
       "    <tr>\n",
       "      <th>21091</th>\n",
       "      <td>360 Bypass</td>\n",
       "      <td>Pan American</td>\n",
       "      <td>0</td>\n",
       "      <td>0</td>\n",
       "      <td>2000-01-31</td>\n",
       "      <td>Dan Gardopee</td>\n",
       "      <td>7.8</td>\n",
       "      <td>https://pitchfork.com/reviews/albums/11798-360...</td>\n",
       "    </tr>\n",
       "  </tbody>\n",
       "</table>\n",
       "</div>"
      ],
      "text/plain": [
       "              album          artist  bnm  bnr       date  \\\n",
       "21087      Love You  The Beach Boys    0    0 2000-08-15   \n",
       "21088     Guarapero     Will Oldham    0    0 2000-03-07   \n",
       "21089  Lost Blues 2     Will Oldham    0    0 2000-03-07   \n",
       "21090  360 Business    Pan American    0    0 2000-01-31   \n",
       "21091    360 Bypass    Pan American    0    0 2000-01-31   \n",
       "\n",
       "                      reviewer score  \\\n",
       "21087           D. Erik Kempke   7.8   \n",
       "21088  Kristin Sage Rockermann   6.8   \n",
       "21089  Kristin Sage Rockermann   6.8   \n",
       "21090             Dan Gardopee   7.8   \n",
       "21091             Dan Gardopee   7.8   \n",
       "\n",
       "                                                     url  \n",
       "21087  https://pitchfork.com/reviews/albums/11669-15-...  \n",
       "21088  https://pitchfork.com/reviews/albums/11792-gua...  \n",
       "21089  https://pitchfork.com/reviews/albums/11792-gua...  \n",
       "21090  https://pitchfork.com/reviews/albums/11798-360...  \n",
       "21091  https://pitchfork.com/reviews/albums/11798-360...  "
      ]
     },
     "execution_count": 60,
     "metadata": {},
     "output_type": "execute_result"
    }
   ],
   "source": [
    "reviews_csv.tail()"
   ]
  },
  {
   "cell_type": "code",
   "execution_count": 61,
   "metadata": {
    "collapsed": false
   },
   "outputs": [
    {
     "data": {
      "image/png": "[encoded data removed]",
      "text/plain": [
       "<matplotlib.figure.Figure at 0x113410978>"
      ]
     },
     "metadata": {},
     "output_type": "display_data"
    }
   ],
   "source": [
    "import matplotlib.pyplot as plt\n",
    "# might have to remove their 'Sunday classics' reviews to get the fair picture\n",
    "plt.plot(reviews_csv['date'], reviews_csv['score'].astype(float))\n",
    "plt.show()"
   ]
  },
  {
   "cell_type": "code",
   "execution_count": null,
   "metadata": {
    "collapsed": true
   },
   "outputs": [],
   "source": [
    "# reviews_csv['month'] = reviews_csv['date'].dt.month\n",
    "# reviews_csv['year']  = reviews_csv['date'].dt.year"
   ]
  },
  {
   "cell_type": "code",
   "execution_count": 62,
   "metadata": {
    "collapsed": true
   },
   "outputs": [],
   "source": [
    "reviews_csv['score'] = reviews_csv['score'].astype(float)"
   ]
  },
  {
   "cell_type": "code",
   "execution_count": 63,
   "metadata": {
    "collapsed": false
   },
   "outputs": [
    {
     "data": {
      "image/png": "[encoded data removed]",
      "text/plain": [
       "<matplotlib.figure.Figure at 0x1141fabe0>"
      ]
     },
     "metadata": {},
     "output_type": "display_data"
    }
   ],
   "source": [
    "reviews_csv.set_index(reviews_csv['date']).resample('M').mean()['score'].plot()\n",
    "plt.title('Mean over time')\n",
    "plt.show()"
   ]
  },
  {
   "cell_type": "code",
   "execution_count": 64,
   "metadata": {
    "collapsed": false
   },
   "outputs": [
    {
     "data": {
      "image/png": "[encoded data removed]",
      "text/plain": [
       "<matplotlib.figure.Figure at 0x1133afa90>"
      ]
     },
     "metadata": {},
     "output_type": "display_data"
    }
   ],
   "source": [
    "reviews_csv.set_index(reviews_csv['date']).resample('M').var()['score'].plot()\n",
    "plt.title('Variance over time')\n",
    "plt.show()"
   ]
  },
  {
   "cell_type": "code",
   "execution_count": null,
   "metadata": {
    "collapsed": false
   },
   "outputs": [],
   "source": [
    "# reviews_csv.set_index(reviews_csv['date']).truncate(after='2009-01-06')"
   ]
  },
  {
   "cell_type": "code",
   "execution_count": 71,
   "metadata": {
    "collapsed": false
   },
   "outputs": [],
   "source": [
    "# sort by date\n",
    "reviews_csv = reviews_csv.sort_values('date', ascending=False).reset_index(drop=True)"
   ]
  },
  {
   "cell_type": "code",
   "execution_count": 72,
   "metadata": {
    "collapsed": false
   },
   "outputs": [
    {
     "data": {
      "text/html": [
       "<div>\n",
       "<style scoped>\n",
       "    .dataframe tbody tr th:only-of-type {\n",
       "        vertical-align: middle;\n",
       "    }\n",
       "\n",
       "    .dataframe tbody tr th {\n",
       "        vertical-align: top;\n",
       "    }\n",
       "\n",
       "    .dataframe thead th {\n",
       "        text-align: right;\n",
       "    }\n",
       "</style>\n",
       "<table border=\"1\" class=\"dataframe\">\n",
       "  <thead>\n",
       "    <tr style=\"text-align: right;\">\n",
       "      <th></th>\n",
       "      <th>album</th>\n",
       "      <th>artist</th>\n",
       "      <th>bnm</th>\n",
       "      <th>bnr</th>\n",
       "      <th>date</th>\n",
       "      <th>reviewer</th>\n",
       "      <th>score</th>\n",
       "      <th>url</th>\n",
       "    </tr>\n",
       "  </thead>\n",
       "  <tbody>\n",
       "    <tr>\n",
       "      <th>21087</th>\n",
       "      <td>1999</td>\n",
       "      <td>Cassius</td>\n",
       "      <td>0</td>\n",
       "      <td>0</td>\n",
       "      <td>1999-01-26</td>\n",
       "      <td>James P. Wisdom</td>\n",
       "      <td>4.8</td>\n",
       "      <td>https://pitchfork.com/reviews/albums/1341-1999/</td>\n",
       "    </tr>\n",
       "    <tr>\n",
       "      <th>21088</th>\n",
       "      <td>Let Us Replay!</td>\n",
       "      <td>Coldcut</td>\n",
       "      <td>0</td>\n",
       "      <td>0</td>\n",
       "      <td>1999-01-26</td>\n",
       "      <td>James P. Wisdom</td>\n",
       "      <td>8.9</td>\n",
       "      <td>https://pitchfork.com/reviews/albums/1535-let-...</td>\n",
       "    </tr>\n",
       "    <tr>\n",
       "      <th>21089</th>\n",
       "      <td>Out of Tune</td>\n",
       "      <td>Mojave 3</td>\n",
       "      <td>0</td>\n",
       "      <td>0</td>\n",
       "      <td>1999-01-12</td>\n",
       "      <td>Jason Josephes</td>\n",
       "      <td>6.3</td>\n",
       "      <td>https://pitchfork.com/reviews/albums/5376-out-...</td>\n",
       "    </tr>\n",
       "    <tr>\n",
       "      <th>21090</th>\n",
       "      <td>Singles Breaking Up, Vol. 1</td>\n",
       "      <td>Don Caballero</td>\n",
       "      <td>0</td>\n",
       "      <td>0</td>\n",
       "      <td>1999-01-12</td>\n",
       "      <td>James P. Wisdom</td>\n",
       "      <td>7.2</td>\n",
       "      <td>https://pitchfork.com/reviews/albums/2413-sing...</td>\n",
       "    </tr>\n",
       "    <tr>\n",
       "      <th>21091</th>\n",
       "      <td>Left for Dead in Malaysia</td>\n",
       "      <td>Neil Hamburger</td>\n",
       "      <td>0</td>\n",
       "      <td>0</td>\n",
       "      <td>1999-01-05</td>\n",
       "      <td>Jason Josephes</td>\n",
       "      <td>6.5</td>\n",
       "      <td>https://pitchfork.com/reviews/albums/3723-left...</td>\n",
       "    </tr>\n",
       "  </tbody>\n",
       "</table>\n",
       "</div>"
      ],
      "text/plain": [
       "                             album          artist  bnm  bnr       date  \\\n",
       "21087                         1999         Cassius    0    0 1999-01-26   \n",
       "21088               Let Us Replay!         Coldcut    0    0 1999-01-26   \n",
       "21089                  Out of Tune        Mojave 3    0    0 1999-01-12   \n",
       "21090  Singles Breaking Up, Vol. 1   Don Caballero    0    0 1999-01-12   \n",
       "21091    Left for Dead in Malaysia  Neil Hamburger    0    0 1999-01-05   \n",
       "\n",
       "              reviewer  score  \\\n",
       "21087  James P. Wisdom    4.8   \n",
       "21088  James P. Wisdom    8.9   \n",
       "21089   Jason Josephes    6.3   \n",
       "21090  James P. Wisdom    7.2   \n",
       "21091   Jason Josephes    6.5   \n",
       "\n",
       "                                                     url  \n",
       "21087    https://pitchfork.com/reviews/albums/1341-1999/  \n",
       "21088  https://pitchfork.com/reviews/albums/1535-let-...  \n",
       "21089  https://pitchfork.com/reviews/albums/5376-out-...  \n",
       "21090  https://pitchfork.com/reviews/albums/2413-sing...  \n",
       "21091  https://pitchfork.com/reviews/albums/3723-left...  "
      ]
     },
     "execution_count": 72,
     "metadata": {},
     "output_type": "execute_result"
    }
   ],
   "source": [
    "reviews_csv.tail()"
   ]
  },
  {
   "cell_type": "code",
   "execution_count": 92,
   "metadata": {
    "collapsed": false
   },
   "outputs": [],
   "source": [
    "reviews_since2010 = reviews_csv.iloc[:10629]"
   ]
  },
  {
   "cell_type": "code",
   "execution_count": 95,
   "metadata": {
    "collapsed": false
   },
   "outputs": [
    {
     "data": {
      "image/png": "[encoded data removed]",
      "text/plain": [
       "<matplotlib.figure.Figure at 0x1152189b0>"
      ]
     },
     "metadata": {},
     "output_type": "display_data"
    }
   ],
   "source": [
    "# an increase of 0.5 is notable when considering 1100-1200 reviews per year\n",
    "reviews_since2010.set_index(reviews_since2010['date']).resample('M').mean()['score'].plot()\n",
    "# plt.plot(np.unique(x), np.poly1d(np.polyfit(x, y, 1))(np.unique(x)))\n",
    "plt.title('Mean per month, since 2010')\n",
    "plt.show()"
   ]
  },
  {
   "cell_type": "code",
   "execution_count": 96,
   "metadata": {
    "collapsed": false
   },
   "outputs": [
    {
     "data": {
      "image/png": "[encoded data removed]",
      "text/plain": [
       "<matplotlib.figure.Figure at 0x115218be0>"
      ]
     },
     "metadata": {},
     "output_type": "display_data"
    }
   ],
   "source": [
    "reviews_since2010.set_index(reviews_since2010['date']).resample('M').var()['score'].plot()\n",
    "plt.title('Variance per month, since 2010')\n",
    "plt.show()"
   ]
  },
  {
   "cell_type": "code",
   "execution_count": 97,
   "metadata": {
    "collapsed": false,
    "scrolled": true
   },
   "outputs": [
    {
     "data": {
      "text/html": [
       "<div>\n",
       "<style scoped>\n",
       "    .dataframe tbody tr th:only-of-type {\n",
       "        vertical-align: middle;\n",
       "    }\n",
       "\n",
       "    .dataframe tbody tr th {\n",
       "        vertical-align: top;\n",
       "    }\n",
       "\n",
       "    .dataframe thead th {\n",
       "        text-align: right;\n",
       "    }\n",
       "</style>\n",
       "<table border=\"1\" class=\"dataframe\">\n",
       "  <thead>\n",
       "    <tr style=\"text-align: right;\">\n",
       "      <th></th>\n",
       "      <th>album</th>\n",
       "      <th>artist</th>\n",
       "      <th>bnm</th>\n",
       "      <th>bnr</th>\n",
       "      <th>date</th>\n",
       "      <th>reviewer</th>\n",
       "      <th>score</th>\n",
       "      <th>url</th>\n",
       "    </tr>\n",
       "  </thead>\n",
       "  <tbody>\n",
       "    <tr>\n",
       "      <th>8211</th>\n",
       "      <td>Blue Slide Park</td>\n",
       "      <td>Mac Miller</td>\n",
       "      <td>0</td>\n",
       "      <td>0</td>\n",
       "      <td>2011-12-08</td>\n",
       "      <td>Jordan Sargent</td>\n",
       "      <td>1.0</td>\n",
       "      <td>https://pitchfork.com/reviews/albums/16113-blu...</td>\n",
       "    </tr>\n",
       "    <tr>\n",
       "      <th>8232</th>\n",
       "      <td>Camp</td>\n",
       "      <td>Childish Gambino</td>\n",
       "      <td>0</td>\n",
       "      <td>0</td>\n",
       "      <td>2011-12-02</td>\n",
       "      <td>Ian Cohen</td>\n",
       "      <td>1.6</td>\n",
       "      <td>https://pitchfork.com/reviews/albums/16074-camp/</td>\n",
       "    </tr>\n",
       "    <tr>\n",
       "      <th>8237</th>\n",
       "      <td>Ersatz G.B.</td>\n",
       "      <td>The Fall</td>\n",
       "      <td>0</td>\n",
       "      <td>0</td>\n",
       "      <td>2011-12-01</td>\n",
       "      <td>Douglas Wolk</td>\n",
       "      <td>2.2</td>\n",
       "      <td>https://pitchfork.com/reviews/albums/16081-the...</td>\n",
       "    </tr>\n",
       "  </tbody>\n",
       "</table>\n",
       "</div>"
      ],
      "text/plain": [
       "                album            artist  bnm  bnr       date        reviewer  \\\n",
       "8211  Blue Slide Park        Mac Miller    0    0 2011-12-08  Jordan Sargent   \n",
       "8232             Camp  Childish Gambino    0    0 2011-12-02       Ian Cohen   \n",
       "8237      Ersatz G.B.          The Fall    0    0 2011-12-01    Douglas Wolk   \n",
       "\n",
       "      score                                                url  \n",
       "8211    1.0  https://pitchfork.com/reviews/albums/16113-blu...  \n",
       "8232    1.6   https://pitchfork.com/reviews/albums/16074-camp/  \n",
       "8237    2.2  https://pitchfork.com/reviews/albums/16081-the...  "
      ]
     },
     "execution_count": 97,
     "metadata": {},
     "output_type": "execute_result"
    }
   ],
   "source": [
    "# what reviews happened towards the end of 2011???\n",
    "reviews_csv.loc[(reviews_csv['date'].dt.month==12) & (reviews_csv['date'].dt.year==2011) & (reviews_csv['score'] < 5)]\n",
    "# I guess Pitchfork didn't like the two rap albums that defined my 9th grade year"
   ]
  },
  {
   "cell_type": "code",
   "execution_count": 98,
   "metadata": {
    "collapsed": false
   },
   "outputs": [
    {
     "data": {
      "image/png": "[encoded data removed]",
      "text/plain": [
       "<matplotlib.figure.Figure at 0x11396c0f0>"
      ]
     },
     "metadata": {},
     "output_type": "display_data"
    }
   ],
   "source": [
    "# definitely the most exciting and telling graph\n",
    "# might be affected by number of reviews per year?\n",
    "reviews_csv.set_index(reviews_csv['date']).resample('Y').var()['score'].plot()\n",
    "plt.title('Variance per year')\n",
    "plt.show()"
   ]
  },
  {
   "cell_type": "code",
   "execution_count": 99,
   "metadata": {
    "collapsed": false
   },
   "outputs": [
    {
     "data": {
      "text/plain": [
       "date\n",
       "1999-12-31     222\n",
       "2000-12-31     351\n",
       "2001-12-31     469\n",
       "2002-12-31     928\n",
       "2003-12-31    1082\n",
       "2004-12-31    1178\n",
       "2005-12-31    1257\n",
       "2006-12-31    1248\n",
       "2007-12-31    1244\n",
       "2008-12-31    1253\n",
       "2009-12-31    1231\n",
       "2010-12-31    1216\n",
       "2011-12-31    1214\n",
       "2012-12-31    1248\n",
       "2013-12-31    1229\n",
       "2014-12-31    1226\n",
       "2015-12-31    1203\n",
       "2016-12-31    1354\n",
       "2017-12-31    1298\n",
       "2018-12-31     641\n",
       "Freq: A-DEC, Name: score, dtype: int64"
      ]
     },
     "execution_count": 99,
     "metadata": {},
     "output_type": "execute_result"
    }
   ],
   "source": [
    "# reviews per year has been pretty constant since 2003\n",
    "reviews_csv.set_index(reviews_csv['date']).resample('Y').count()['score']"
   ]
  },
  {
   "cell_type": "code",
   "execution_count": 100,
   "metadata": {
    "collapsed": true
   },
   "outputs": [],
   "source": [
    "rev_count = reviews_csv.set_index(reviews_csv['date']).resample('Y').count()['score']"
   ]
  },
  {
   "cell_type": "code",
   "execution_count": 101,
   "metadata": {
    "collapsed": false
   },
   "outputs": [
    {
     "data": {
      "text/plain": [
       "3.41854583772392"
      ]
     },
     "execution_count": 101,
     "metadata": {},
     "output_type": "execute_result"
    }
   ],
   "source": [
    "import numpy as np\n",
    "np.mean(list(rev_count[6:19])) / 365\n",
    "# average 3.42 reviews per day since "
   ]
  },
  {
   "cell_type": "code",
   "execution_count": 102,
   "metadata": {
    "collapsed": false
   },
   "outputs": [
    {
     "data": {
      "text/plain": [
       "date\n",
       "1999-12-31    6.859459\n",
       "2000-12-31    6.797721\n",
       "2001-12-31    7.151599\n",
       "2002-12-31    6.831250\n",
       "2003-12-31    6.949445\n",
       "2004-12-31    7.207301\n",
       "2005-12-31    7.070406\n",
       "2006-12-31    6.995032\n",
       "2007-12-31    6.892524\n",
       "2008-12-31    6.892418\n",
       "2009-12-31    6.861251\n",
       "2010-12-31    6.996217\n",
       "2011-12-31    7.074465\n",
       "2012-12-31    7.060737\n",
       "2013-12-31    7.065012\n",
       "2014-12-31    7.122104\n",
       "2015-12-31    7.143308\n",
       "2016-12-31    7.291581\n",
       "2017-12-31    7.348998\n",
       "2018-12-31    7.214197\n",
       "Freq: A-DEC, Name: score, dtype: float64"
      ]
     },
     "execution_count": 102,
     "metadata": {},
     "output_type": "execute_result"
    }
   ],
   "source": [
    "# last two years (2016, 2017) had the highest yearly means ever, with 2018 currently on pace to be third (re-check?)\n",
    "reviews_csv.set_index(reviews_csv['date']).resample('Y').mean()['score']"
   ]
  },
  {
   "cell_type": "code",
   "execution_count": 103,
   "metadata": {
    "collapsed": false
   },
   "outputs": [
    {
     "data": {
      "image/png": "[encoded data removed]",
      "text/plain": [
       "<matplotlib.figure.Figure at 0x113956cc0>"
      ]
     },
     "metadata": {},
     "output_type": "display_data"
    }
   ],
   "source": [
    "# now want to see a distribution of scores\n",
    "reviews_csv.hist(column='score')\n",
    "plt.show()"
   ]
  },
  {
   "cell_type": "code",
   "execution_count": 104,
   "metadata": {
    "collapsed": false
   },
   "outputs": [
    {
     "data": {
      "image/png": "[encoded data removed]",
      "text/plain": [
       "<matplotlib.figure.Figure at 0x11515b160>"
      ]
     },
     "metadata": {},
     "output_type": "display_data"
    },
    {
     "data": {
      "image/png": "[encoded data removed]",
      "text/plain": [
       "<matplotlib.figure.Figure at 0x10cd48160>"
      ]
     },
     "metadata": {},
     "output_type": "display_data"
    },
    {
     "data": {
      "image/png": "[encoded data removed]",
      "text/plain": [
       "<matplotlib.figure.Figure at 0x1133f8908>"
      ]
     },
     "metadata": {},
     "output_type": "display_data"
    },
    {
     "data": {
      "image/png": "[encoded data removed]",
      "text/plain": [
       "<matplotlib.figure.Figure at 0x1152551d0>"
      ]
     },
     "metadata": {},
     "output_type": "display_data"
    },
    {
     "data": {
      "image/png": "[encoded data removed]",
      "text/plain": [
       "<matplotlib.figure.Figure at 0x1140e2ef0>"
      ]
     },
     "metadata": {},
     "output_type": "display_data"
    },
    {
     "data": {
      "image/png": "[encoded data removed]",
      "text/plain": [
       "<matplotlib.figure.Figure at 0x10b78a2e8>"
      ]
     },
     "metadata": {},
     "output_type": "display_data"
    },
    {
     "data": {
      "image/png": "[encoded data removed]",
      "text/plain": [
       "<matplotlib.figure.Figure at 0x1145af2e8>"
      ]
     },
     "metadata": {},
     "output_type": "display_data"
    },
    {
     "data": {
      "image/png": "[encoded data removed]",
      "text/plain": [
       "<matplotlib.figure.Figure at 0x114633400>"
      ]
     },
     "metadata": {},
     "output_type": "display_data"
    },
    {
     "data": {
      "image/png": "[encoded data removed]",
      "text/plain": [
       "<matplotlib.figure.Figure at 0x1151c1e10>"
      ]
     },
     "metadata": {},
     "output_type": "display_data"
    },
    {
     "data": {
      "image/png": "[encoded data removed]",
      "text/plain": [
       "<matplotlib.figure.Figure at 0x1153e5e10>"
      ]
     },
     "metadata": {},
     "output_type": "display_data"
    },
    {
     "data": {
      "image/png": "[encoded data removed]",
      "text/plain": [
       "<matplotlib.figure.Figure at 0x11546af28>"
      ]
     },
     "metadata": {},
     "output_type": "display_data"
    },
    {
     "data": {
      "image/png": "[encoded data removed]",
      "text/plain": [
       "<matplotlib.figure.Figure at 0x1132f2a20>"
      ]
     },
     "metadata": {},
     "output_type": "display_data"
    },
    {
     "data": {
      "image/png": "[encoded data removed]",
      "text/plain": [
       "<matplotlib.figure.Figure at 0x115152be0>"
      ]
     },
     "metadata": {},
     "output_type": "display_data"
    },
    {
     "data": {
      "image/png": "[encoded data removed]",
      "text/plain": [
       "<matplotlib.figure.Figure at 0x113965710>"
      ]
     },
     "metadata": {},
     "output_type": "display_data"
    },
    {
     "data": {
      "image/png": "[encoded data removed]",
      "text/plain": [
       "<matplotlib.figure.Figure at 0x1151294a8>"
      ]
     },
     "metadata": {},
     "output_type": "display_data"
    },
    {
     "data": {
      "image/png": "[encoded data removed]",
      "text/plain": [
       "<matplotlib.figure.Figure at 0x11397c9b0>"
      ]
     },
     "metadata": {},
     "output_type": "display_data"
    },
    {
     "data": {
      "image/png": "[encoded data removed]",
      "text/plain": [
       "<matplotlib.figure.Figure at 0x113da46d8>"
      ]
     },
     "metadata": {},
     "output_type": "display_data"
    },
    {
     "data": {
      "image/png": "[encoded data removed]",
      "text/plain": [
       "<matplotlib.figure.Figure at 0x10cb304e0>"
      ]
     },
     "metadata": {},
     "output_type": "display_data"
    },
    {
     "data": {
      "image/png": "[encoded data removed]",
      "text/plain": [
       "<matplotlib.figure.Figure at 0x1155bdba8>"
      ]
     },
     "metadata": {},
     "output_type": "display_data"
    },
    {
     "data": {
      "image/png": "[encoded data removed]",
      "text/plain": [
       "<matplotlib.figure.Figure at 0x11563e8d0>"
      ]
     },
     "metadata": {},
     "output_type": "display_data"
    }
   ],
   "source": [
    "# histograms each year are pretty consistent\n",
    "for idx, df, in reviews_csv.set_index(reviews_csv['date']).groupby(pd.Grouper(freq='Y')):\n",
    "    df.hist(column='score')\n",
    "plt.show()"
   ]
  },
  {
   "cell_type": "code",
   "execution_count": 106,
   "metadata": {
    "collapsed": false
   },
   "outputs": [
    {
     "data": {
      "text/html": [
       "<div>\n",
       "<style scoped>\n",
       "    .dataframe tbody tr th:only-of-type {\n",
       "        vertical-align: middle;\n",
       "    }\n",
       "\n",
       "    .dataframe tbody tr th {\n",
       "        vertical-align: top;\n",
       "    }\n",
       "\n",
       "    .dataframe thead th {\n",
       "        text-align: right;\n",
       "    }\n",
       "</style>\n",
       "<table border=\"1\" class=\"dataframe\">\n",
       "  <thead>\n",
       "    <tr style=\"text-align: right;\">\n",
       "      <th></th>\n",
       "      <th>avg_score</th>\n",
       "      <th>num_reviews</th>\n",
       "    </tr>\n",
       "    <tr>\n",
       "      <th>reviewer</th>\n",
       "      <th></th>\n",
       "      <th></th>\n",
       "    </tr>\n",
       "  </thead>\n",
       "  <tbody>\n",
       "    <tr>\n",
       "      <th>Mark Richardson</th>\n",
       "      <td>7.668609</td>\n",
       "      <td>532</td>\n",
       "    </tr>\n",
       "    <tr>\n",
       "      <th>Dominique Leone</th>\n",
       "      <td>7.540924</td>\n",
       "      <td>303</td>\n",
       "    </tr>\n",
       "    <tr>\n",
       "      <th>Philip Sherburne</th>\n",
       "      <td>7.526198</td>\n",
       "      <td>313</td>\n",
       "    </tr>\n",
       "    <tr>\n",
       "      <th>Brandon Stosuy</th>\n",
       "      <td>7.521711</td>\n",
       "      <td>304</td>\n",
       "    </tr>\n",
       "    <tr>\n",
       "      <th>Marc Masters</th>\n",
       "      <td>7.511507</td>\n",
       "      <td>365</td>\n",
       "    </tr>\n",
       "    <tr>\n",
       "      <th>Andy Beta</th>\n",
       "      <td>7.509444</td>\n",
       "      <td>360</td>\n",
       "    </tr>\n",
       "    <tr>\n",
       "      <th>Joe Tangari</th>\n",
       "      <td>7.400350</td>\n",
       "      <td>858</td>\n",
       "    </tr>\n",
       "    <tr>\n",
       "      <th>Amanda Petrusich</th>\n",
       "      <td>7.386957</td>\n",
       "      <td>207</td>\n",
       "    </tr>\n",
       "    <tr>\n",
       "      <th>Chris Dahlen</th>\n",
       "      <td>7.359091</td>\n",
       "      <td>220</td>\n",
       "    </tr>\n",
       "    <tr>\n",
       "      <th>Matt LeMay</th>\n",
       "      <td>7.321635</td>\n",
       "      <td>208</td>\n",
       "    </tr>\n",
       "    <tr>\n",
       "      <th>Matthew Murphy</th>\n",
       "      <td>7.260854</td>\n",
       "      <td>281</td>\n",
       "    </tr>\n",
       "    <tr>\n",
       "      <th>Stuart Berman</th>\n",
       "      <td>7.168311</td>\n",
       "      <td>527</td>\n",
       "    </tr>\n",
       "    <tr>\n",
       "      <th>Jayson Greene</th>\n",
       "      <td>7.156677</td>\n",
       "      <td>337</td>\n",
       "    </tr>\n",
       "    <tr>\n",
       "      <th>Brian Howe</th>\n",
       "      <td>7.078203</td>\n",
       "      <td>523</td>\n",
       "    </tr>\n",
       "    <tr>\n",
       "      <th>Jess Harvell</th>\n",
       "      <td>7.062925</td>\n",
       "      <td>294</td>\n",
       "    </tr>\n",
       "    <tr>\n",
       "      <th>Nate Patrin</th>\n",
       "      <td>7.056557</td>\n",
       "      <td>366</td>\n",
       "    </tr>\n",
       "    <tr>\n",
       "      <th>Grayson Currin</th>\n",
       "      <td>7.011486</td>\n",
       "      <td>296</td>\n",
       "    </tr>\n",
       "    <tr>\n",
       "      <th>Stephen M. Deusner</th>\n",
       "      <td>7.005868</td>\n",
       "      <td>801</td>\n",
       "    </tr>\n",
       "    <tr>\n",
       "      <th>Larry Fitzmaurice</th>\n",
       "      <td>6.986463</td>\n",
       "      <td>229</td>\n",
       "    </tr>\n",
       "    <tr>\n",
       "      <th>Andrew Gaerig</th>\n",
       "      <td>6.916846</td>\n",
       "      <td>279</td>\n",
       "    </tr>\n",
       "    <tr>\n",
       "      <th>Jason Crock</th>\n",
       "      <td>6.861091</td>\n",
       "      <td>275</td>\n",
       "    </tr>\n",
       "    <tr>\n",
       "      <th>Nick Neyland</th>\n",
       "      <td>6.841475</td>\n",
       "      <td>217</td>\n",
       "    </tr>\n",
       "    <tr>\n",
       "      <th>Tom Breihan</th>\n",
       "      <td>6.761395</td>\n",
       "      <td>215</td>\n",
       "    </tr>\n",
       "    <tr>\n",
       "      <th>Joshua Klein</th>\n",
       "      <td>6.738667</td>\n",
       "      <td>225</td>\n",
       "    </tr>\n",
       "    <tr>\n",
       "      <th>Paul Thompson</th>\n",
       "      <td>6.713559</td>\n",
       "      <td>236</td>\n",
       "    </tr>\n",
       "    <tr>\n",
       "      <th>Marc Hogan</th>\n",
       "      <td>6.643497</td>\n",
       "      <td>469</td>\n",
       "    </tr>\n",
       "    <tr>\n",
       "      <th>Ian Cohen</th>\n",
       "      <td>6.405045</td>\n",
       "      <td>773</td>\n",
       "    </tr>\n",
       "    <tr>\n",
       "      <th>Rob Mitchum</th>\n",
       "      <td>6.393818</td>\n",
       "      <td>275</td>\n",
       "    </tr>\n",
       "    <tr>\n",
       "      <th>Adam Moerder</th>\n",
       "      <td>6.146667</td>\n",
       "      <td>210</td>\n",
       "    </tr>\n",
       "  </tbody>\n",
       "</table>\n",
       "</div>"
      ],
      "text/plain": [
       "                    avg_score  num_reviews\n",
       "reviewer                                  \n",
       "Mark Richardson      7.668609          532\n",
       "Dominique Leone      7.540924          303\n",
       "Philip Sherburne     7.526198          313\n",
       "Brandon Stosuy       7.521711          304\n",
       "Marc Masters         7.511507          365\n",
       "Andy Beta            7.509444          360\n",
       "Joe Tangari          7.400350          858\n",
       "Amanda Petrusich     7.386957          207\n",
       "Chris Dahlen         7.359091          220\n",
       "Matt LeMay           7.321635          208\n",
       "Matthew Murphy       7.260854          281\n",
       "Stuart Berman        7.168311          527\n",
       "Jayson Greene        7.156677          337\n",
       "Brian Howe           7.078203          523\n",
       "Jess Harvell         7.062925          294\n",
       "Nate Patrin          7.056557          366\n",
       "Grayson Currin       7.011486          296\n",
       "Stephen M. Deusner   7.005868          801\n",
       "Larry Fitzmaurice    6.986463          229\n",
       "Andrew Gaerig        6.916846          279\n",
       "Jason Crock          6.861091          275\n",
       "Nick Neyland         6.841475          217\n",
       "Tom Breihan          6.761395          215\n",
       "Joshua Klein         6.738667          225\n",
       "Paul Thompson        6.713559          236\n",
       "Marc Hogan           6.643497          469\n",
       "Ian Cohen            6.405045          773\n",
       "Rob Mitchum          6.393818          275\n",
       "Adam Moerder         6.146667          210"
      ]
     },
     "execution_count": 106,
     "metadata": {},
     "output_type": "execute_result"
    }
   ],
   "source": [
    "# most common reviewers (200 or more)\n",
    "common_reviewers = reviews_csv.groupby('reviewer').filter(lambda x: len(x) > 200)\n",
    "mean_reviewer_scores = common_reviewers.groupby('reviewer').mean()['score']\n",
    "reviewer_counts = common_reviewers.groupby('reviewer').count()['artist']\n",
    "reviewers_df = pd.concat([mean_reviewer_scores, reviewer_counts], axis=1).sort_values(by='score', ascending=False)\n",
    "reviewers_df.columns = ['avg_score', 'num_reviews']\n",
    "reviewers_df"
   ]
  },
  {
   "cell_type": "code",
   "execution_count": 109,
   "metadata": {
    "collapsed": false,
    "scrolled": true
   },
   "outputs": [
    {
     "name": "stderr",
     "output_type": "stream",
     "text": [
      "/Users/henryharris/anaconda3/lib/python3.6/site-packages/ipykernel/__main__.py:3: UserWarning: Boolean Series key will be reindexed to match DataFrame index.\n",
      "  app.launch_new_instance()\n"
     ]
    }
   ],
   "source": [
    "# most common artists reviewed\n",
    "# reviews_csv['artist'].value_counts().drop('Various Artists')\n",
    "common_artists = reviews_csv.groupby('artist').filter(lambda x: len(x) > 2)[reviews_csv['artist'] != 'Various Artists']\n",
    "artist_means = common_artists.groupby('artist').mean()['score']"
   ]
  },
  {
   "cell_type": "code",
   "execution_count": 111,
   "metadata": {
    "collapsed": false
   },
   "outputs": [
    {
     "data": {
      "text/plain": [
       "artist\n",
       "My Bloody Valentine                     9.650000\n",
       "D’Angelo                                9.533333\n",
       "The Velvet Underground                  9.525000\n",
       "John Coltrane                           9.500000\n",
       "Liquid Liquid                           9.433333\n",
       "Fleetwood Mac                           9.080000\n",
       "Girls                                   9.033333\n",
       "Otis Redding                            9.000000\n",
       "Max Tundra                              9.000000\n",
       "Pavement                                9.000000\n",
       "This Heat                               8.980000\n",
       "The Beatles                             8.940909\n",
       "Tame Impala                             8.933333\n",
       "Kendrick Lamar                          8.920000\n",
       "GAS                                     8.900000\n",
       "Funkadelic                              8.850000\n",
       "Caetano Veloso                          8.840000\n",
       "Fleet Foxes                             8.800000\n",
       "Sly and the Family Stone                8.800000\n",
       "Sleater-Kinney                          8.776923\n",
       "Ornette Coleman                         8.766667\n",
       "Fuck Buttons                            8.766667\n",
       "Joanna Newsom                           8.760000\n",
       "Miles Davis                             8.760000\n",
       "Galaxie 500                             8.680000\n",
       "Serge Gainsbourg                        8.675000\n",
       "Vampire Weekend                         8.675000\n",
       "The Clash                               8.675000\n",
       "Mulatu Astatke                          8.666667\n",
       "Led Zeppelin                            8.666667\n",
       "                                          ...   \n",
       "alt-J                                   4.433333\n",
       "The (International) Noise Conspiracy    4.400000\n",
       "Stereophonics                           4.375000\n",
       "Gomez                                   4.360000\n",
       "Paul Banks                              4.333333\n",
       "The Donnas                              4.325000\n",
       "Placebo                                 4.325000\n",
       "Athlete                                 4.266667\n",
       "The Get Up Kids                         4.266667\n",
       "Vue                                     4.250000\n",
       "Jeffrey Lewis & the Jitters             4.233333\n",
       "The Promise Ring                        4.166667\n",
       "Zero 7                                  4.125000\n",
       "Ed Harcourt                             4.000000\n",
       "Caustic Resin                           3.966667\n",
       "Bettie Serveert                         3.933333\n",
       "Morcheeba                               3.800000\n",
       "RZA                                     3.766667\n",
       "Joan of Arc                             3.700000\n",
       "The Dandy Warhols                       3.620000\n",
       "Keane                                   3.600000\n",
       "Matt Pond PA                            3.575000\n",
       "Richard Ashcroft                        3.433333\n",
       "OK Go                                   3.400000\n",
       "Har Mar Superstar                       3.233333\n",
       "The Bravery                             3.133333\n",
       "Non                                     3.066667\n",
       "The Warlocks                            3.025000\n",
       "Louis XIV                               2.833333\n",
       "Wolfie                                  2.400000\n",
       "Name: score, Length: 2305, dtype: float64"
      ]
     },
     "execution_count": 111,
     "metadata": {},
     "output_type": "execute_result"
    }
   ],
   "source": [
    "# can link to full list of results in article and only mention notables like alt-J\n",
    "artist_means.sort_values(ascending=False)"
   ]
  },
  {
   "cell_type": "code",
   "execution_count": null,
   "metadata": {
    "collapsed": true
   },
   "outputs": [],
   "source": [
    "text_csv = pd.read_csv('pitchfork_reviews_text.csv')"
   ]
  },
  {
   "cell_type": "code",
   "execution_count": null,
   "metadata": {
    "collapsed": false
   },
   "outputs": [],
   "source": [
    "text_csv.head()"
   ]
  },
  {
   "cell_type": "code",
   "execution_count": null,
   "metadata": {
    "collapsed": true
   },
   "outputs": [],
   "source": [
    "# 'Various Artists' albums were scraped as nans, so replaced here\n",
    "text_csv['artist'] = text_csv['artist'].fillna('Various Artists')\n",
    "\n",
    "# 13 album titles either weren't there or didn't scrape properly\n",
    "# not entirely sure what to do about that...but not crucial to our goal\n",
    "text_csv['album'] = text_csv['album'].fillna('N/A')"
   ]
  },
  {
   "cell_type": "code",
   "execution_count": null,
   "metadata": {
    "collapsed": false
   },
   "outputs": [],
   "source": [
    "text_csv.shape"
   ]
  },
  {
   "cell_type": "code",
   "execution_count": null,
   "metadata": {
    "collapsed": false
   },
   "outputs": [],
   "source": [
    "text_csv.isnull().sum()"
   ]
  },
  {
   "cell_type": "code",
   "execution_count": null,
   "metadata": {
    "collapsed": false
   },
   "outputs": [],
   "source": [
    "text_csv.dropna(inplace=True) # drop reviews with no text"
   ]
  },
  {
   "cell_type": "code",
   "execution_count": null,
   "metadata": {
    "collapsed": true
   },
   "outputs": [],
   "source": [
    "# text pre-processing: remove numbers and artist names"
   ]
  },
  {
   "cell_type": "code",
   "execution_count": null,
   "metadata": {
    "collapsed": false
   },
   "outputs": [],
   "source": [
    "from sklearn.feature_extraction.text import TfidfVectorizer\n",
    "from sklearn import linear_model\n",
    "from sklearn.model_selection import train_test_split\n",
    "\n",
    "tfidf = TfidfVectorizer(max_df=0.95, min_df=0.001) # don't need stopwords with max_df cutoff\n",
    "X = tfidf.fit_transform(text_csv['text'])\n",
    "y = text_csv.score\n",
    "\n",
    "x_train, x_test, y_train, y_test = train_test_split(X, y, test_size=0.2)\n",
    "\n",
    "model = linear_model.Ridge(normalize=True)\n",
    "model.fit(x_train, y_train)\n",
    "\n",
    "print(model.score(x_test, y_test))"
   ]
  },
  {
   "cell_type": "code",
   "execution_count": null,
   "metadata": {
    "collapsed": true
   },
   "outputs": [],
   "source": [
    "preds = model.predict(x_test)"
   ]
  },
  {
   "cell_type": "code",
   "execution_count": null,
   "metadata": {
    "collapsed": false
   },
   "outputs": [],
   "source": [
    "from sklearn import metrics\n",
    "\n",
    "print(metrics.mean_absolute_error(y_test, preds))"
   ]
  },
  {
   "cell_type": "code",
   "execution_count": null,
   "metadata": {
    "collapsed": false
   },
   "outputs": [],
   "source": [
    "# as you can see, predictions look very consistent and with a low variance\n",
    "# maybe this shows the low variance pattern of Pitchfock, or maybe it's the model\n",
    "# we can't really say anything definitive but it is still interesting\n",
    "\n",
    "preds[:10]"
   ]
  },
  {
   "cell_type": "code",
   "execution_count": null,
   "metadata": {
    "collapsed": false
   },
   "outputs": [],
   "source": [
    "y_test[:10]"
   ]
  },
  {
   "cell_type": "code",
   "execution_count": null,
   "metadata": {
    "collapsed": false
   },
   "outputs": [],
   "source": [
    "pd.Series(preds).var() # learned a pretty consistent distribution"
   ]
  },
  {
   "cell_type": "code",
   "execution_count": null,
   "metadata": {
    "collapsed": true
   },
   "outputs": [],
   "source": [
    "# next step is to create a binary classifier of good vs. bad reviews\n",
    "# perhaps add a third class for good, bad, neutral\n",
    "\n",
    "# perhaps define the cutoff based on Pitchfork's standard and find the mean (median?) score to delineate good vs. bad\n",
    "\n",
    "# also go back and do text pre-processing"
   ]
  },
  {
   "cell_type": "code",
   "execution_count": null,
   "metadata": {
    "collapsed": true
   },
   "outputs": [],
   "source": [
    "# has the standard for best new music changed since it started in 2003?\n",
    "# also! graph best new music per reviews each year to see if the frequency has increased\n",
    "\n",
    "best_new_music = text_csv[text_csv['bnm'] == 1]"
   ]
  },
  {
   "cell_type": "code",
   "execution_count": null,
   "metadata": {
    "collapsed": false
   },
   "outputs": [],
   "source": [
    "best_new_music.shape"
   ]
  },
  {
   "cell_type": "code",
   "execution_count": null,
   "metadata": {
    "collapsed": false
   },
   "outputs": [],
   "source": [
    "best_new_music.head()"
   ]
  },
  {
   "cell_type": "code",
   "execution_count": null,
   "metadata": {
    "collapsed": false
   },
   "outputs": [],
   "source": [
    "best_new_music['date'] = pd.to_datetime(best_new_music['date'].str.replace(' ', ''), format='%B%d%Y')"
   ]
  },
  {
   "cell_type": "code",
   "execution_count": null,
   "metadata": {
    "collapsed": false
   },
   "outputs": [],
   "source": [
    "import matplotlib.pyplot as plt\n",
    "\n",
    "plt.plot(best_new_music['date'], best_new_music['score'])\n",
    "plt.show()"
   ]
  },
  {
   "cell_type": "code",
   "execution_count": null,
   "metadata": {
    "collapsed": false
   },
   "outputs": [],
   "source": [
    "# investigate the outliers\n",
    "# ooo this breaks when there are multiple pages on one review\n",
    "# should only track best new music, not best new reissue\n",
    "\n",
    "best_new_music[best_new_music['score'] < 8]"
   ]
  },
  {
   "cell_type": "code",
   "execution_count": null,
   "metadata": {
    "collapsed": true
   },
   "outputs": [],
   "source": []
  }
 ],
 "metadata": {
  "kernelspec": {
   "display_name": "Python 3",
   "language": "python",
   "name": "python3"
  },
  "language_info": {
   "codemirror_mode": {
    "name": "ipython",
    "version": 3
   },
   "file_extension": ".py",
   "mimetype": "text/x-python",
   "name": "python",
   "nbconvert_exporter": "python",
   "pygments_lexer": "ipython3",
   "version": "3.6.0"
  }
 },
 "nbformat": 4,
 "nbformat_minor": 2
}
